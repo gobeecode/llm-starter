{
 "cells": [
  {
   "cell_type": "code",
   "execution_count": 4,
   "id": "3ebab703-8526-4ffc-8c2d-c1af6d4ab1bf",
   "metadata": {},
   "outputs": [],
   "source": [
    "# Imports\n",
    "import os\n",
    "import requests\n",
    "from dotenv import load_dotenv\n",
    "from bs4 import BeautifulSoup\n",
    "from IPython.display import Markdown, display\n",
    "from openai import OpenAI"
   ]
  },
  {
   "cell_type": "code",
   "execution_count": 10,
   "id": "b3f7008b-a954-457a-bb3a-e945a93ce35d",
   "metadata": {},
   "outputs": [
    {
     "name": "stdout",
     "output_type": "stream",
     "text": [
      "API key is found!\n"
     ]
    }
   ],
   "source": [
    "# Load environment variables\n",
    "load_dotenv(override=True)\n",
    "api_key = os.getenv('OPENAI_API_KEY')\n",
    "if not api_key:\n",
    "    raise Exception('API key is not found!')\n",
    "elif api_key != api_key.strip():\n",
    "    raise Exception('API key is found but it has leading or trailing spaces which should be removed')\n",
    "else:\n",
    "    print('API key is found!')"
   ]
  },
  {
   "cell_type": "code",
   "execution_count": 15,
   "id": "eedab0d4-5fad-4ebc-a24a-b1b21aa655fc",
   "metadata": {},
   "outputs": [],
   "source": [
    "# Hello chatgpt!\n",
    "openai = OpenAI()\n",
    "model = 'gpt-4o-mini'\n",
    "messages = [{'role': 'user', 'content': 'Hello chatgpt!'}]\n",
    "# response = openai.chat.completions.create(model=model, messages=messages)\n",
    "# print(response.choices[0].message.content)"
   ]
  },
  {
   "cell_type": "code",
   "execution_count": null,
   "id": "388baea4-7d0f-44a3-81d8-802ad069e904",
   "metadata": {},
   "outputs": [],
   "source": []
  }
 ],
 "metadata": {
  "kernelspec": {
   "display_name": "Python 3 (ipykernel)",
   "language": "python",
   "name": "python3"
  },
  "language_info": {
   "codemirror_mode": {
    "name": "ipython",
    "version": 3
   },
   "file_extension": ".py",
   "mimetype": "text/x-python",
   "name": "python",
   "nbconvert_exporter": "python",
   "pygments_lexer": "ipython3",
   "version": "3.11.13"
  }
 },
 "nbformat": 4,
 "nbformat_minor": 5
}
