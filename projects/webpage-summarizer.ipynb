{
 "cells": [
  {
   "cell_type": "code",
   "execution_count": 4,
   "id": "3ebab703-8526-4ffc-8c2d-c1af6d4ab1bf",
   "metadata": {},
   "outputs": [],
   "source": [
    "# Imports\n",
    "import os\n",
    "import requests\n",
    "from dotenv import load_dotenv\n",
    "from bs4 import BeautifulSoup\n",
    "from IPython.display import Markdown, display\n",
    "from openai import OpenAI"
   ]
  },
  {
   "cell_type": "code",
   "execution_count": 4,
   "id": "b3f7008b-a954-457a-bb3a-e945a93ce35d",
   "metadata": {},
   "outputs": [
    {
     "name": "stdout",
     "output_type": "stream",
     "text": [
      "API key is found!\n"
     ]
    }
   ],
   "source": [
    "# Load environment variables\n",
    "load_dotenv(override=True)\n",
    "api_key = os.getenv('OPENAI_API_KEY')\n",
    "if not api_key:\n",
    "    raise Exception('API key is not found!')\n",
    "elif api_key != api_key.strip():\n",
    "    raise Exception('API key is found but it has leading or trailing spaces which should be removed')\n",
    "else:\n",
    "    print('API key is found!')"
   ]
  },
  {
   "cell_type": "code",
   "execution_count": 5,
   "id": "eedab0d4-5fad-4ebc-a24a-b1b21aa655fc",
   "metadata": {},
   "outputs": [],
   "source": [
    "# Hello chatgpt! This is expected to fail if the API key is not set correctly.\n",
    "openai = OpenAI()\n",
    "model = 'gpt-4o-mini'\n",
    "messages = [{'role': 'user', 'content': 'Hello llm!'}]\n",
    "# response = openai.chat.completions.create(model=model, messages=messages)\n",
    "# print(response.choices[0].message.content)"
   ]
  },
  {
   "cell_type": "markdown",
   "id": "57f81383",
   "metadata": {},
   "source": [
    "## Web Scraping for Content"
   ]
  },
  {
   "cell_type": "code",
   "execution_count": 5,
   "id": "388baea4-7d0f-44a3-81d8-802ad069e904",
   "metadata": {},
   "outputs": [],
   "source": [
    "# Web scraping example\n",
    "\n",
    "headers = {\n",
    "    'User-Agent': 'Mozilla/5.0 (Windows NT 10.0; Win64; x64) AppleWebKit/537.36 (KHTML, like Gecko) Chrome/58.0.3029.110 Safari/537.3'\n",
    "    }\n",
    "\n",
    "class Website:\n",
    "    def __init__(self, url):\n",
    "        self.url = url\n",
    "        self.content = None\n",
    "        response = requests.get(url, headers=headers)\n",
    "        soup = BeautifulSoup(response.content, 'html.parser')\n",
    "        self.title = soup.title.string if soup.title else 'No title found'\n",
    "        self.text = soup.get_text(separator='\\n', strip=True)"
   ]
  },
  {
   "cell_type": "code",
   "execution_count": null,
   "id": "fac41d1e",
   "metadata": {},
   "outputs": [
    {
     "name": "stdout",
     "output_type": "stream",
     "text": [
      "Title of the webpage: METTLER TOLEDO Balances & Scales for Industry, Lab, Retail - METTLER TOLEDO\n",
      "Content of the webpage: METTLER TOLEDO Balances & Scales for Industry, Lab, Retail - METTLER TOLEDO\n",
      "Products & Solutions\n",
      "The...\n"
     ]
    }
   ],
   "source": [
    "url = 'https://wikipedia.org'\n",
    "\n",
    "website = Website(url)\n",
    "print(f'Title of the webpage: {website.title}')\n",
    "print(f'Content of the webpage: {website.text[:100]}...')  # Print the first 100 characters of the content."
   ]
  },
  {
   "cell_type": "markdown",
   "id": "8cb103ea",
   "metadata": {},
   "source": [
    "## Prompts"
   ]
  },
  {
   "cell_type": "markdown",
   "id": "312db9fe",
   "metadata": {},
   "source": [
    "### Types of prompt\n",
    "- System prompt - Type of task and the tone to be used.\n",
    "- User prompt - Conversation the system should reply for."
   ]
  },
  {
   "cell_type": "code",
   "execution_count": 10,
   "id": "da506730",
   "metadata": {},
   "outputs": [
    {
     "name": "stdout",
     "output_type": "stream",
     "text": [
      "System prompt: You are an AI assistant that summarizes webpages. Provide a concise summary of the content. Ignore any HTML tags and navigation related text and focus on the main text. Respond in markdown format.\n",
      "User prompt: Summarize the content of the webpage https://mt.com with the title \"METTLER TOLEDO Balances & Scales for Industry, Lab, Retail - METTLER TOLEDO\". The content of the website is as follows:\n",
      "METTLER TOLEDO Balances & Scales for Industry, Lab, Retail - METTLER TOLEDO\n",
      "Products & Solutions\n",
      "There was an error retrieving our menu. Please reload the page.\n",
      "Industries\n",
      "There was an error retrieving our menu. Please reload the page.\n",
      "Services & Support\n",
      "There was an error retrieving our menu. Please reload the page.\n",
      "Events & Expertise\n",
      "There was an error retrieving our menu. Please reload the page.\n",
      "About Us\n",
      "There was an error retrieving our menu. Please reload the page.\n",
      "Contact Us\n",
      "Welcome, {mt:userTitle/} {mt:lastName/}\n",
      "Login / Registration\n",
      "My mt.com\n",
      "Logout\n",
      "Select Country\n",
      "Need assistance?\n",
      "Our team is here to achieve your goals! Speak with our experts.\n",
      "Start Live Chat\n",
      "Schedule Online Consultation\n",
      "Request a Demo\n",
      "I want to…\n",
      "I want to…\n",
      "Request Service\n",
      "Find a Job\n",
      "Join an Event\n",
      "Register My Profile\n",
      "Contact Us\n",
      "We Innovate Amazing Solutions\n",
      "Together with our customers, we are building a better, healthier, and safer tomorrow\n",
      "Find Your Solution\n",
      "Preserving a World of Opportunities for Future Generations\n",
      "We are committed to building a better, safer, and healthier tomorrow\n",
      "Discover GreenMT\n",
      "Explore Exciting Career Opportunities\n",
      "Discover rewarding career paths and join a dynamic team at METTLER TOLEDO\n",
      "Explore Careers\n",
      "Search\n",
      "Search suggestions\n",
      "ph meter\n",
      "balance\n",
      "conductivity\n",
      "counting platform scale\n",
      "ind570\n",
      "All Categories\n",
      "All Categories\n",
      "Products\n",
      "Support\n",
      "Expertise\n",
      "Events & Webinars\n",
      "Other\n",
      "Filter\n",
      "Get Onsite Service\n",
      "Get in touch with our support services - Send a service request, call us, or request service information\n",
      "Track Your Order\n",
      "Easily track your order status using your customer number and order number or purchase order number\n",
      "Browse Events Near You\n",
      "Build your industry knowledge and network at your next local METTLER TOLEDO event\n",
      "Increase Your Knowledge\n",
      "Gain expert insights and increase your knowledge with our extensive library of videos and documentation\n",
      "Join the Team\n",
      "Bring your unique talents and perspectives and join our ONE TEAM at METTLER TOLEDO\n",
      "Contact Us\n",
      "Have questions? Please contact us for more information\n",
      "Find Your Solution\n",
      "Laboratory Weighing\n",
      "Laboratory Balances, Analytical, Precision and Micro & Ultra Micro Balances, Powder & Liquid Dosing, Moisture Analyzers, Test Weights\n",
      "Industrial Scales & Load Cell Systems\n",
      "Bench Scales, Portable Scales, Floor Scales, Counting and Mixing Scales, Terminals, Weigh Modules, Load Cells, SQC, Software\n",
      "Product Inspection Equipment\n",
      "Product Inspection Equipment for In-Motion Checkweighers, Metal Detectors & X-ray Inspection Systems, Vision Inspection Systems for Quality Control\n",
      "Rainin Liquid Handling Solutions\n",
      "Rainin offers a wide selection of liquid handling equipment, solutions and resources for laboratories around the world.\n",
      "Process Analytics\n",
      "pH/ORP (Redox) Probes, Oxygen, CO₂, Ozone Sensors, Bioburden, Total Organic Carbon, Gas, Sodium, Silica and Chloride/Sulfate Analyzers, Transmitter...\n",
      "Truck Scales / Weighbridges and Dimensioning & Dynamic Weighing\n",
      "Truck Scales and Weighbridges, Rail Scales, Forklift & Pallet Scales, Dimensioning, Weighing and Identification Solutions\n",
      "Analytical Instruments\n",
      "Titrators, Density Meters, Refractometers, pH/Ion Measurement, Thermal Analysis, UV/VIS Spectrophotometers\n",
      "Automated Lab Reactors, In-Situ Analysis, and Modeling Software\n",
      "Particle size analyzers, FTIR and Raman spectrometers, chemical synthesis reactors, reactor control systems, automated sampling systems, reaction c...\n",
      "Service and Support\n",
      "Repair Services and Spare Parts\n",
      "Fast response times\n",
      "Return to operational excellence\n",
      "Worldwide coverage\n",
      "Flexible repair options\n",
      "Learn More\n",
      "Calibration, Verification, and Certification\n",
      "Consistent and reliable measurements\n",
      "Quality assurance\n",
      "Audit-ready documentation\n",
      "Learn More\n",
      "Preventive Maintenance\n",
      "Increased accuracy and reliability\n",
      "Reduced downtime\n",
      "Extended lifespan\n",
      "Learn More\n",
      "Installation, Qualification, Setup, and Configuration\n",
      "Professional installation\n",
      "Initial calibration and verification\n",
      "Audit-proof documentation\n",
      "Equipment qualification\n",
      "Learn More\n",
      "Service Packages\n",
      "Uninterrupted business operations\n",
      "Full transparency and documentation\n",
      "Budget control\n",
      "Learn more\n",
      "View All Services\n",
      "Expertise\n",
      "Trainings\n",
      "Enhance your expertise with the industry leader's knowledge and become certified\n",
      "Go to Trainings\n",
      "Webinars\n",
      "Stay current and competitive with best practices and trends in the latest innovations and technologies\n",
      "Go to Webinars\n",
      "Library\n",
      "Expand your knowledge and find your specific case solution through our vast library\n",
      "Go to Library\n",
      "Events\n",
      "Unscheduled\n",
      "more dates\n",
      "View All Events\n",
      "Products & Solutions\n",
      "Laboratory Balances\n",
      "Industrial Scales\n",
      "Retail Weighing Scales\n",
      "Rainin Pipettes and Tips\n",
      "Analytical Instruments\n",
      "Automated Reactors and In Situ Analysis\n",
      "Process Analytics\n",
      "Inline Product Inspection\n",
      "Transport and Logistics\n",
      "Services & Support\n",
      "Service Offerings\n",
      "Product Registration\n",
      "Technical Support\n",
      "Events & Expertise\n",
      "Expertise Library\n",
      "Literature: White Papers, Guides, Brochures\n",
      "Technical Documentation\n",
      "On Demand Webinars\n",
      "Videos\n",
      "Live Events\n",
      "Seminars & Training\n",
      "Trade Shows & Exhibitions\n",
      "Live Webinars\n",
      "About Us\n",
      "Jobs & Careers\n",
      "METTLER TOLEDO\n",
      "Sustainability\n",
      "Business Description\n",
      "Digitalization\n",
      "Global Presence\n",
      "Innovation & Quality\n",
      "Management\n",
      "Investor Relations\n",
      "Newsroom\n",
      "Quick Links\n",
      "Contact Us\n",
      "Search\n",
      "Document Finder\n",
      "Product Finder\n",
      "Service Finder\n",
      "Videos\n",
      "© METTLER TOLEDO. All rights reserved.\n",
      "Cookie Management\n",
      "|\n",
      "Legal, Terms, Privacy\n",
      "|\n",
      "Contact us\n",
      "|\n",
      "Site Map\n",
      "|\n",
      "Global Presence\n",
      "Start Live Chat\n",
      "Request Quote or Info\n",
      "Get a Quote\n",
      "Instant Quote\n",
      "Solution Information\n",
      "Request a Demo\n",
      "I want to…\n",
      "Need assistance?\n",
      "Our team is here to achieve your goals! Speak with our experts.\n"
     ]
    }
   ],
   "source": [
    "system_prompt = 'You are an AI assistant that summarizes webpages. \\\n",
    "Provide a concise summary of the content. \\\n",
    "Ignore any HTML tags and navigation related text and focus on the main text. \\\n",
    "Respond in markdown format.'\n",
    "\n",
    "def get_user_prompt(website):\n",
    "    return f'Summarize the content of the webpage {url} with the title \"{website.title}\". \\\n",
    "The content of the website is as follows:\\n{website.text}'\n",
    "\n",
    "print(f'System prompt: {system_prompt}')\n",
    "print(f'User prompt: {get_user_prompt(website)}')\n",
    "\n"
   ]
  },
  {
   "cell_type": "markdown",
   "id": "641b8cdf",
   "metadata": {},
   "source": [
    "## Messages"
   ]
  },
  {
   "cell_type": "code",
   "execution_count": null,
   "id": "e1408db0",
   "metadata": {},
   "outputs": [],
   "source": [
    "## Simple message.\n",
    "\n",
    "messages = [\n",
    "    {'role': 'system', 'content': 'You are an AI assistant that is very funny but also an expert in mathematics.'},\n",
    "    {'role': 'user', 'content': 'What is the square root of 16?'}\n",
    "]"
   ]
  },
  {
   "cell_type": "code",
   "execution_count": 11,
   "id": "1f7061f0",
   "metadata": {},
   "outputs": [
    {
     "name": "stdout",
     "output_type": "stream",
     "text": [
      "[{'role': 'system', 'content': 'You are an AI assistant that summarizes webpages. Provide a concise summary of the content. Ignore any HTML tags and navigation related text and focus on the main text. Respond in markdown format.'}, {'role': 'user', 'content': 'Summarize the content of the webpage https://mt.com with the title \"METTLER TOLEDO Balances & Scales for Industry, Lab, Retail - METTLER TOLEDO\". The content of the website is as follows:\\nMETTLER TOLEDO Balances & Scales for Industry, Lab, Retail - METTLER TOLEDO\\nProducts & Solutions\\nThere was an error retrieving our menu. Please reload the page.\\nIndustries\\nThere was an error retrieving our menu. Please reload the page.\\nServices & Support\\nThere was an error retrieving our menu. Please reload the page.\\nEvents & Expertise\\nThere was an error retrieving our menu. Please reload the page.\\nAbout Us\\nThere was an error retrieving our menu. Please reload the page.\\nContact Us\\nWelcome, {mt:userTitle/} {mt:lastName/}\\nLogin / Registration\\nMy mt.com\\nLogout\\nSelect Country\\nNeed assistance?\\nOur team is here to achieve your goals! Speak with our experts.\\nStart Live Chat\\nSchedule Online Consultation\\nRequest a Demo\\nI want to…\\nI want to…\\nRequest Service\\nFind a Job\\nJoin an Event\\nRegister My Profile\\nContact Us\\nWe Innovate Amazing Solutions\\nTogether with our customers, we are building a better, healthier, and safer tomorrow\\nFind Your Solution\\nPreserving a World of Opportunities for Future Generations\\nWe are committed to building a better, safer, and healthier tomorrow\\nDiscover GreenMT\\nExplore Exciting Career Opportunities\\nDiscover rewarding career paths and join a dynamic team at METTLER TOLEDO\\nExplore Careers\\nSearch\\nSearch suggestions\\nph meter\\nbalance\\nconductivity\\ncounting platform scale\\nind570\\nAll Categories\\nAll Categories\\nProducts\\nSupport\\nExpertise\\nEvents & Webinars\\nOther\\nFilter\\nGet Onsite Service\\nGet in touch with our support services - Send a service request, call us, or request service information\\nTrack Your Order\\nEasily track your order status using your customer number and order number or purchase order number\\nBrowse Events Near You\\nBuild your industry knowledge and network at your next local METTLER TOLEDO event\\nIncrease Your Knowledge\\nGain expert insights and increase your knowledge with our extensive library of videos and documentation\\nJoin the Team\\nBring your unique talents and perspectives and join our ONE TEAM at METTLER TOLEDO\\nContact Us\\nHave questions? Please contact us for more information\\nFind Your Solution\\nLaboratory Weighing\\nLaboratory Balances, Analytical, Precision and Micro & Ultra Micro Balances, Powder & Liquid Dosing, Moisture Analyzers, Test Weights\\nIndustrial Scales & Load Cell Systems\\nBench Scales, Portable Scales, Floor Scales, Counting and Mixing Scales, Terminals, Weigh Modules, Load Cells, SQC, Software\\nProduct Inspection Equipment\\nProduct Inspection Equipment for In-Motion Checkweighers, Metal Detectors & X-ray Inspection Systems, Vision Inspection Systems for Quality Control\\nRainin Liquid Handling Solutions\\nRainin offers a wide selection of liquid handling equipment, solutions and resources for laboratories around the world.\\nProcess Analytics\\npH/ORP (Redox) Probes, Oxygen, CO₂, Ozone Sensors, Bioburden, Total Organic Carbon, Gas, Sodium, Silica and Chloride/Sulfate Analyzers, Transmitter...\\nTruck Scales / Weighbridges and Dimensioning & Dynamic Weighing\\nTruck Scales and Weighbridges, Rail Scales, Forklift & Pallet Scales, Dimensioning, Weighing and Identification Solutions\\nAnalytical Instruments\\nTitrators, Density Meters, Refractometers, pH/Ion Measurement, Thermal Analysis, UV/VIS Spectrophotometers\\nAutomated Lab Reactors, In-Situ Analysis, and Modeling Software\\nParticle size analyzers, FTIR and Raman spectrometers, chemical synthesis reactors, reactor control systems, automated sampling systems, reaction c...\\nService and Support\\nRepair Services and Spare Parts\\nFast response times\\nReturn to operational excellence\\nWorldwide coverage\\nFlexible repair options\\nLearn More\\nCalibration, Verification, and Certification\\nConsistent and reliable measurements\\nQuality assurance\\nAudit-ready documentation\\nLearn More\\nPreventive Maintenance\\nIncreased accuracy and reliability\\nReduced downtime\\nExtended lifespan\\nLearn More\\nInstallation, Qualification, Setup, and Configuration\\nProfessional installation\\nInitial calibration and verification\\nAudit-proof documentation\\nEquipment qualification\\nLearn More\\nService Packages\\nUninterrupted business operations\\nFull transparency and documentation\\nBudget control\\nLearn more\\nView All Services\\nExpertise\\nTrainings\\nEnhance your expertise with the industry leader\\'s knowledge and become certified\\nGo to Trainings\\nWebinars\\nStay current and competitive with best practices and trends in the latest innovations and technologies\\nGo to Webinars\\nLibrary\\nExpand your knowledge and find your specific case solution through our vast library\\nGo to Library\\nEvents\\nUnscheduled\\nmore dates\\nView All Events\\nProducts & Solutions\\nLaboratory Balances\\nIndustrial Scales\\nRetail Weighing Scales\\nRainin Pipettes and Tips\\nAnalytical Instruments\\nAutomated Reactors and In Situ Analysis\\nProcess Analytics\\nInline Product Inspection\\nTransport and Logistics\\nServices & Support\\nService Offerings\\nProduct Registration\\nTechnical Support\\nEvents & Expertise\\nExpertise Library\\nLiterature: White Papers, Guides, Brochures\\nTechnical Documentation\\nOn Demand Webinars\\nVideos\\nLive Events\\nSeminars & Training\\nTrade Shows & Exhibitions\\nLive Webinars\\nAbout Us\\nJobs & Careers\\nMETTLER TOLEDO\\nSustainability\\nBusiness Description\\nDigitalization\\nGlobal Presence\\nInnovation & Quality\\nManagement\\nInvestor Relations\\nNewsroom\\nQuick Links\\nContact Us\\nSearch\\nDocument Finder\\nProduct Finder\\nService Finder\\nVideos\\n© METTLER TOLEDO. All rights reserved.\\nCookie Management\\n|\\nLegal, Terms, Privacy\\n|\\nContact us\\n|\\nSite Map\\n|\\nGlobal Presence\\nStart Live Chat\\nRequest Quote or Info\\nGet a Quote\\nInstant Quote\\nSolution Information\\nRequest a Demo\\nI want to…\\nNeed assistance?\\nOur team is here to achieve your goals! Speak with our experts.'}]\n"
     ]
    }
   ],
   "source": [
    "def get_messages(website: Website) -> list:\n",
    "    \"\"\"\n",
    "    Returns a list of messages with system and user prompts.\n",
    "    \"\"\"\n",
    "    return [\n",
    "        {'role': 'system', 'content': system_prompt},\n",
    "        {'role': 'user', 'content': get_user_prompt(website)}\n",
    "    ]\n",
    "\n",
    "print(get_messages(website))"
   ]
  },
  {
   "cell_type": "markdown",
   "id": "ea40f53f",
   "metadata": {},
   "source": [
    "## Summarize Website"
   ]
  },
  {
   "cell_type": "code",
   "execution_count": null,
   "id": "e3ccee20",
   "metadata": {},
   "outputs": [],
   "source": [
    "def summarize_website_with_openai(website):\n",
    "    model = 'gpt-4o-mini'\n",
    "    messages = get_messages(website)\n",
    "    response = openai.chat.completions.create(model=model, messages=messages)\n",
    "    summary = Markdown(response.choices[0].message.content)\n",
    "    return summary\n",
    "\n",
    "summarize_website_with_openai(website)"
   ]
  },
  {
   "cell_type": "code",
   "execution_count": 12,
   "id": "b666d1ca",
   "metadata": {},
   "outputs": [
    {
     "data": {
      "text/markdown": [
       "**METTLER TOLEDO Overview**\n",
       "METTLER TOLEDO is a global company that provides balances and scales for various industries, including laboratory, retail, and industrial applications.\n",
       "\n",
       "**Products and Solutions**\n",
       "The company offers a wide range of products, including:\n",
       "\n",
       "* Laboratory Balances: analytical, precision, and micro balances\n",
       "* Industrial Scales and Load Cell Systems\n",
       "* Product Inspection Equipment\n",
       "* Rainin Liquid Handling Solutions\n",
       "* Process Analytics\n",
       "\n",
       "**Services and Support**\n",
       "METTLER TOLEDO provides various services, such as:\n",
       "\n",
       "* Repair Services and Spare Parts\n",
       "* Calibration, Verification, and Certification\n",
       "* Preventive Maintenance\n",
       "* Installation, Qualification, Setup, and Configuration\n",
       "* Service Packages\n",
       "\n",
       "**Expertise and Training**\n",
       "The company offers training and expertise in areas such as:\n",
       "\n",
       "* Laboratory Balances\n",
       "* Industrial Scales\n",
       "* Product Inspection Equipment\n",
       "* Process Analytics\n",
       "* Automated Lab Reactors and In-Situ Analysis\n",
       "\n",
       "**About Us and Careers**\n",
       "METTLER TOLEDO is committed to building a better, safer, and healthier tomorrow. The company has a strong presence globally and offers exciting career opportunities.\n",
       "\n",
       "**Contact Us**\n",
       "To get in touch with METTLER TOLEDO's experts, you can start a live chat or schedule an online consultation. You can also find more information on their website and contact them through various channels."
      ],
      "text/plain": [
       "<IPython.core.display.Markdown object>"
      ]
     },
     "execution_count": 12,
     "metadata": {},
     "output_type": "execute_result"
    }
   ],
   "source": [
    "import ollama\n",
    "\n",
    "def summarize_website_with_ollama(website):\n",
    "    model = 'llama3.2'\n",
    "    messages = get_messages(website)\n",
    "    response = ollama.chat(model=model, messages=messages, stream=False)\n",
    "    summary = Markdown(response['message']['content'])\n",
    "    return summary\n",
    "\n",
    "summarize_website_with_ollama(website)"
   ]
  }
 ],
 "metadata": {
  "kernelspec": {
   "display_name": "llms",
   "language": "python",
   "name": "python3"
  },
  "language_info": {
   "codemirror_mode": {
    "name": "ipython",
    "version": 3
   },
   "file_extension": ".py",
   "mimetype": "text/x-python",
   "name": "python",
   "nbconvert_exporter": "python",
   "pygments_lexer": "ipython3",
   "version": "3.11.13"
  }
 },
 "nbformat": 4,
 "nbformat_minor": 5
}
